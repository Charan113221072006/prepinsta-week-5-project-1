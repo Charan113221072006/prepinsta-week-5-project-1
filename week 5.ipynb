{
  "nbformat": 4,
  "nbformat_minor": 0,
  "metadata": {
    "colab": {
      "provenance": []
    },
    "kernelspec": {
      "name": "python3",
      "display_name": "Python 3"
    },
    "language_info": {
      "name": "python"
    }
  },
  "cells": [
    {
      "cell_type": "code",
      "execution_count": 7,
      "metadata": {
        "id": "neWfdV0OklZC"
      },
      "outputs": [],
      "source": [
        "import sqlite3 as sql\n",
        "\n",
        "# Connect to the database\n",
        "conn = sqlite3.connect('crime_scene.db')\n",
        "cursor = conn.cursor()\n"
      ]
    },
    {
      "cell_type": "code",
      "source": [
        "conn = sql.connect('/content/sql-murder-mystery.db')\n",
        "cursor = conn.cursor"
      ],
      "metadata": {
        "id": "bTx6WMjgkskV"
      },
      "execution_count": 8,
      "outputs": []
    },
    {
      "cell_type": "code",
      "source": [
        "print(conn)"
      ],
      "metadata": {
        "colab": {
          "base_uri": "https://localhost:8080/"
        },
        "id": "tjo-oso2lFvL",
        "outputId": "79f9d3f7-6b49-42cd-fed6-1d7e6749478c"
      },
      "execution_count": 9,
      "outputs": [
        {
          "output_type": "stream",
          "name": "stdout",
          "text": [
            "<sqlite3.Connection object at 0x7974554f4940>\n"
          ]
        }
      ]
    },
    {
      "cell_type": "code",
      "source": [
        "# Retrieving the crime scene report\n",
        "crime_scene_query = \"\"\"\n",
        "SELECT *\n",
        "FROM crime_scene_report\n",
        "WHERE date = '2018-01-15' AND city = 'SQL City';\n",
        "\"\"\"\n",
        "\n",
        "crime_scene_report = conn.execute(crime_scene_query).fetchall()\n",
        "print(crime_scene_report)\n"
      ],
      "metadata": {
        "colab": {
          "base_uri": "https://localhost:8080/"
        },
        "id": "kd6jNWSDlLan",
        "outputId": "082d3de7-e0fd-43e3-f178-51bf7017258e"
      },
      "execution_count": 10,
      "outputs": [
        {
          "output_type": "stream",
          "name": "stdout",
          "text": [
            "[]\n"
          ]
        }
      ]
    },
    {
      "cell_type": "code",
      "source": [
        "query2 = \"\"\"\n",
        "\n",
        "WITH witness1 AS (\n",
        "    SELECT id FROM person\n",
        "    WHERE address_street_name = 'Northwestern Dr'\n",
        "    ORDER BY address_number DESC LIMIT 1\n",
        "), witness2 AS (\n",
        "    SELECT id FROM person\n",
        "    WHERE INSTR(name, 'Annabel') > 0 AND address_street_name = 'Franklin Ave'\n",
        "), witnesses AS (\n",
        "    SELECT *, 1 AS witness FROM witness1\n",
        "    UNION\n",
        "    SELECT *, 2 AS witness FROM witness2\n",
        ")\n",
        "SELECT witness, transcript FROM witnesses\n",
        "LEFT JOIN interview ON witnesses.id = interview.person_id\n",
        "\"\"\"\n",
        "witness = conn.execute(query2).fetchall()\n",
        "print(witness)"
      ],
      "metadata": {
        "colab": {
          "base_uri": "https://localhost:8080/"
        },
        "id": "ehaObDMkloIb",
        "outputId": "f1d72e58-c39d-4902-c322-a1ea2011fd36"
      },
      "execution_count": 13,
      "outputs": [
        {
          "output_type": "stream",
          "name": "stdout",
          "text": [
            "[(1, 'I heard a gunshot and then saw a man run out. He had a \"Get Fit Now Gym\" bag. The membership number on the bag started with \"48Z\". Only gold members have those bags. The man got into a car with a plate that included \"H42W\".'), (2, 'I saw the murder happen, and I recognized the killer from my gym when I was working out last week on January the 9th.')]\n"
          ]
        }
      ]
    },
    {
      "cell_type": "code",
      "source": [
        "query3 = \"\"\"\n",
        "WITH gym_checkins AS (\n",
        "    SELECT person_id, name\n",
        "    FROM get_fit_now_member\n",
        "    LEFT JOIN get_fit_now_check_in ON get_fit_now_member.id = get_fit_now_check_in.membership_id\n",
        "    WHERE membership_status = 'gold' -- Only gold members have those bags\n",
        "      AND check_in_date = '20180109' -- Witness 2 recognized him on January the 9th\n",
        "), suspects AS (\n",
        "    SELECT gym_checkins.person_id, gym_checkins.name, plate_number, gender\n",
        "    FROM gym_checkins\n",
        "    LEFT JOIN person ON gym_checkins.person_id = person.id\n",
        "    LEFT JOIN drivers_license ON person.license_id = drivers_license.id\n",
        ")\n",
        "SELECT * FROM suspects\n",
        "-- The man got into a car with a plate that included \"H42W\"\n",
        "WHERE INSTR(plate_number, 'H42W') > 0 AND gender = 'male'\n",
        "\"\"\"\n",
        "suspects = conn.execute(query3).fetchall()\n",
        "print(suspects)"
      ],
      "metadata": {
        "colab": {
          "base_uri": "https://localhost:8080/"
        },
        "id": "KSbhsxMqLw6e",
        "outputId": "2e0005c8-c63e-4bb9-8fec-4d4e11b89c5b"
      },
      "execution_count": 21,
      "outputs": [
        {
          "output_type": "stream",
          "name": "stdout",
          "text": [
            "[(67318, 'Jeremy Bowers', '0H42W2', 'male')]\n"
          ]
        }
      ]
    },
    {
      "cell_type": "code",
      "source": [
        "query4 = \"\"\"\n",
        "INSERT INTO solution VALUES (1, \"Jeremy Bowers\");\n",
        "\"\"\"\n",
        "suspect1 = conn.execute(query4).fetchall()\n",
        "print(suspect1)\n",
        "\n",
        "query5 = \"\"\"\n",
        "SELECT value FROM solution;\n",
        "\"\"\"\n",
        "suspect_detail = conn.execute(query5).fetchall()\n",
        "print(suspect_detail)"
      ],
      "metadata": {
        "colab": {
          "base_uri": "https://localhost:8080/"
        },
        "id": "qi_flSAEMrmB",
        "outputId": "f38cf687-af03-41c0-93f3-d89d26ddcc04"
      },
      "execution_count": 24,
      "outputs": [
        {
          "output_type": "stream",
          "name": "stdout",
          "text": [
            "[]\n",
            "[(\"Congrats, you found the murderer! But wait, there's more... If you think you're up for a challenge, try querying the interview transcript of the murderer to find the real villain behind this crime. If you feel especially confident in your SQL skills, try to complete this final step with no more than 2 queries. Use this same INSERT statement with your new suspect to check your answer.\",)]\n"
          ]
        }
      ]
    },
    {
      "cell_type": "code",
      "source": [
        "query6 = \"\"\"\n",
        "SELECT transcript FROM interview WHERE person_id = 67318\n",
        "\"\"\"\n",
        "further_investigation = conn.execute(query6).fetchall()\n",
        "print(further_investigation)"
      ],
      "metadata": {
        "colab": {
          "base_uri": "https://localhost:8080/"
        },
        "id": "jqiMkglfMlNC",
        "outputId": "8e5f7f27-4052-4a2e-fd48-e13988374605"
      },
      "execution_count": 25,
      "outputs": [
        {
          "output_type": "stream",
          "name": "stdout",
          "text": [
            "[('I was hired by a woman with a lot of money. I don\\'t know her name but I know she\\'s around 5\\'5\" (65\") or 5\\'7\" (67\"). She has red hair and she drives a Tesla Model S. I know that she attended the SQL Symphony Concert 3 times in December 2017.\\n',)]\n"
          ]
        }
      ]
    },
    {
      "cell_type": "code",
      "source": [
        "query7 = \"\"\"\n",
        "WITH red_haired_tesla_drivers AS (\n",
        "    SELECT id AS license_id\n",
        "    FROM drivers_license\n",
        "    WHERE gender = 'female' AND hair_color = 'red' -- She has red hair\n",
        "      AND car_make = 'Tesla' AND car_model = 'Model S' -- and she drives a Tesla Model S\n",
        "      AND height >= 64 AND height <= 68 -- she's around 5'5\" (65\") or 5'7\" (67\")\n",
        "), rich_suspects AS (\n",
        "    SELECT person.id AS person_id, name, annual_income\n",
        "    FROM red_haired_tesla_drivers AS rhtd\n",
        "    LEFT JOIN person ON rhtd.license_id = person.license_id\n",
        "    LEFT JOIN income ON person.ssn = income.ssn\n",
        "), symphony_attenders AS (\n",
        "    SELECT person_id, COUNT(1) AS n_checkins\n",
        "    FROM facebook_event_checkin\n",
        "    WHERE event_name = 'SQL Symphony Concert' -- she attended the SQL Symphony Concert\n",
        "    GROUP BY person_id\n",
        "    HAVING n_checkins = 3 -- 3 times\n",
        ")\n",
        "SELECT name, annual_income\n",
        "FROM rich_suspects\n",
        "INNER JOIN symphony_attenders ON rich_suspects.person_id = symphony_attenders.person_id\n",
        "\"\"\"\n",
        "further_investigation2 = conn.execute(query7).fetchall()\n",
        "print(further_investigation2)"
      ],
      "metadata": {
        "colab": {
          "base_uri": "https://localhost:8080/"
        },
        "id": "Ffv-ZAkZNpYz",
        "outputId": "38a44951-7381-41c6-ec33-98b341355c9a"
      },
      "execution_count": 27,
      "outputs": [
        {
          "output_type": "stream",
          "name": "stdout",
          "text": [
            "[('Miranda Priestly', 310000)]\n"
          ]
        }
      ]
    },
    {
      "cell_type": "code",
      "source": [
        "query8 = \"\"\"\n",
        "INSERT INTO solution VALUES (1, \"Miranda Priestly\");\n",
        "\"\"\"\n",
        "final1 = conn.execute(query8).fetchall()\n",
        "print(final1)\n",
        "query9 = \"\"\"\n",
        "SELECT value FROM solution;\n",
        "\"\"\"\n",
        "final2 = conn.execute(query9).fetchall()\n",
        "print(final2)"
      ],
      "metadata": {
        "colab": {
          "base_uri": "https://localhost:8080/"
        },
        "id": "x9NGzOc7OAQx",
        "outputId": "785b08bf-47a9-4b53-f13f-007927a1a62d"
      },
      "execution_count": 28,
      "outputs": [
        {
          "output_type": "stream",
          "name": "stdout",
          "text": [
            "[]\n",
            "[('Congrats, you found the brains behind the murder! Everyone in SQL City hails you as the greatest SQL detective of all time. Time to break out the champagne!',)]\n"
          ]
        }
      ]
    }
  ]
}